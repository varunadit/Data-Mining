{
 "cells": [
  {
   "cell_type": "markdown",
   "metadata": {
    "id": "hUafNskn1B2T"
   },
   "source": [
    "# PA 2: Classification - Nearest Neighbors"
   ]
  },
  {
   "cell_type": "markdown",
   "metadata": {
    "id": "wn0_1RQW1HE4"
   },
   "source": [
    "## Student Details (1 Point)\n",
    "\n",
    "First Student Name and ID: Duggirala subhash 1001965810\n",
    "\n",
    "Second Student Name and ID: Dhamudaran Sathish, Varun Adit 1001944885\n",
    "\n",
    "Third Student Name and ID: Darbha, Supreetha 1002035242\n"
   ]
  },
  {
   "cell_type": "code",
   "execution_count": 14,
   "metadata": {
    "id": "JS-PUcY21K93"
   },
   "outputs": [],
   "source": [
    "# special IPython command to prepare the notebook for matplotlib\n",
    "%matplotlib inline \n",
    "\n",
    "#Array processing\n",
    "import numpy as np\n",
    "#Data analysis, wrangling and common exploratory operations\n",
    "import pandas as pd\n",
    "from pandas import Series, DataFrame\n",
    "\n",
    "from sklearn.model_selection import train_test_split\n",
    "\n",
    "from sklearn import neighbors, preprocessing, datasets\n",
    "from sklearn.neighbors import KNeighborsClassifier\n",
    "\n",
    "from sklearn.preprocessing import StandardScaler\n",
    "\n",
    "\n",
    "from sklearn.preprocessing import StandardScaler\n",
    "from sklearn.metrics import confusion_matrix\n",
    "from sklearn.metrics import precision_score, recall_score, f1_score, accuracy_score\n",
    "from sklearn.metrics import classification_report\n",
    "\n",
    "\n",
    "\n",
    "#For visualization. Matplotlib for basic viz and seaborn for more stylish figures\n",
    "import matplotlib.pyplot as plt\n",
    "import seaborn as sns"
   ]
  },
  {
   "cell_type": "code",
   "execution_count": 15,
   "metadata": {
    "colab": {
     "base_uri": "https://localhost:8080/",
     "height": 285
    },
    "id": "WwGlxPfd1O-f",
    "outputId": "72474946-30ce-4b30-b4e3-28b44f0679ad"
   },
   "outputs": [
    {
     "data": {
      "text/html": [
       "\n",
       "  <div id=\"df-0896ecbb-6400-4b25-b777-51e6f64ea507\">\n",
       "    <div class=\"colab-df-container\">\n",
       "      <div>\n",
       "<style scoped>\n",
       "    .dataframe tbody tr th:only-of-type {\n",
       "        vertical-align: middle;\n",
       "    }\n",
       "\n",
       "    .dataframe tbody tr th {\n",
       "        vertical-align: top;\n",
       "    }\n",
       "\n",
       "    .dataframe thead th {\n",
       "        text-align: right;\n",
       "    }\n",
       "</style>\n",
       "<table border=\"1\" class=\"dataframe\">\n",
       "  <thead>\n",
       "    <tr style=\"text-align: right;\">\n",
       "      <th></th>\n",
       "      <th>Survived</th>\n",
       "      <th>Pclass</th>\n",
       "      <th>Name</th>\n",
       "      <th>Sex</th>\n",
       "      <th>Age</th>\n",
       "      <th>SibSp</th>\n",
       "      <th>Parch</th>\n",
       "      <th>Ticket</th>\n",
       "      <th>Fare</th>\n",
       "      <th>Cabin</th>\n",
       "      <th>Embarked</th>\n",
       "    </tr>\n",
       "  </thead>\n",
       "  <tbody>\n",
       "    <tr>\n",
       "      <th>0</th>\n",
       "      <td>0</td>\n",
       "      <td>3</td>\n",
       "      <td>Braund, Mr. Owen Harris</td>\n",
       "      <td>male</td>\n",
       "      <td>22.0</td>\n",
       "      <td>1</td>\n",
       "      <td>0</td>\n",
       "      <td>A/5 21171</td>\n",
       "      <td>7.2500</td>\n",
       "      <td>NaN</td>\n",
       "      <td>S</td>\n",
       "    </tr>\n",
       "    <tr>\n",
       "      <th>1</th>\n",
       "      <td>1</td>\n",
       "      <td>1</td>\n",
       "      <td>Cumings, Mrs. John Bradley (Florence Briggs Th...</td>\n",
       "      <td>female</td>\n",
       "      <td>38.0</td>\n",
       "      <td>1</td>\n",
       "      <td>0</td>\n",
       "      <td>PC 17599</td>\n",
       "      <td>71.2833</td>\n",
       "      <td>C85</td>\n",
       "      <td>C</td>\n",
       "    </tr>\n",
       "    <tr>\n",
       "      <th>2</th>\n",
       "      <td>1</td>\n",
       "      <td>3</td>\n",
       "      <td>Heikkinen, Miss. Laina</td>\n",
       "      <td>female</td>\n",
       "      <td>26.0</td>\n",
       "      <td>0</td>\n",
       "      <td>0</td>\n",
       "      <td>STON/O2. 3101282</td>\n",
       "      <td>7.9250</td>\n",
       "      <td>NaN</td>\n",
       "      <td>S</td>\n",
       "    </tr>\n",
       "    <tr>\n",
       "      <th>3</th>\n",
       "      <td>1</td>\n",
       "      <td>1</td>\n",
       "      <td>Futrelle, Mrs. Jacques Heath (Lily May Peel)</td>\n",
       "      <td>female</td>\n",
       "      <td>35.0</td>\n",
       "      <td>1</td>\n",
       "      <td>0</td>\n",
       "      <td>113803</td>\n",
       "      <td>53.1000</td>\n",
       "      <td>C123</td>\n",
       "      <td>S</td>\n",
       "    </tr>\n",
       "    <tr>\n",
       "      <th>4</th>\n",
       "      <td>0</td>\n",
       "      <td>3</td>\n",
       "      <td>Allen, Mr. William Henry</td>\n",
       "      <td>male</td>\n",
       "      <td>35.0</td>\n",
       "      <td>0</td>\n",
       "      <td>0</td>\n",
       "      <td>373450</td>\n",
       "      <td>8.0500</td>\n",
       "      <td>NaN</td>\n",
       "      <td>S</td>\n",
       "    </tr>\n",
       "  </tbody>\n",
       "</table>\n",
       "</div>\n",
       "      <button class=\"colab-df-convert\" onclick=\"convertToInteractive('df-0896ecbb-6400-4b25-b777-51e6f64ea507')\"\n",
       "              title=\"Convert this dataframe to an interactive table.\"\n",
       "              style=\"display:none;\">\n",
       "        \n",
       "  <svg xmlns=\"http://www.w3.org/2000/svg\" height=\"24px\"viewBox=\"0 0 24 24\"\n",
       "       width=\"24px\">\n",
       "    <path d=\"M0 0h24v24H0V0z\" fill=\"none\"/>\n",
       "    <path d=\"M18.56 5.44l.94 2.06.94-2.06 2.06-.94-2.06-.94-.94-2.06-.94 2.06-2.06.94zm-11 1L8.5 8.5l.94-2.06 2.06-.94-2.06-.94L8.5 2.5l-.94 2.06-2.06.94zm10 10l.94 2.06.94-2.06 2.06-.94-2.06-.94-.94-2.06-.94 2.06-2.06.94z\"/><path d=\"M17.41 7.96l-1.37-1.37c-.4-.4-.92-.59-1.43-.59-.52 0-1.04.2-1.43.59L10.3 9.45l-7.72 7.72c-.78.78-.78 2.05 0 2.83L4 21.41c.39.39.9.59 1.41.59.51 0 1.02-.2 1.41-.59l7.78-7.78 2.81-2.81c.8-.78.8-2.07 0-2.86zM5.41 20L4 18.59l7.72-7.72 1.47 1.35L5.41 20z\"/>\n",
       "  </svg>\n",
       "      </button>\n",
       "      \n",
       "  <style>\n",
       "    .colab-df-container {\n",
       "      display:flex;\n",
       "      flex-wrap:wrap;\n",
       "      gap: 12px;\n",
       "    }\n",
       "\n",
       "    .colab-df-convert {\n",
       "      background-color: #E8F0FE;\n",
       "      border: none;\n",
       "      border-radius: 50%;\n",
       "      cursor: pointer;\n",
       "      display: none;\n",
       "      fill: #1967D2;\n",
       "      height: 32px;\n",
       "      padding: 0 0 0 0;\n",
       "      width: 32px;\n",
       "    }\n",
       "\n",
       "    .colab-df-convert:hover {\n",
       "      background-color: #E2EBFA;\n",
       "      box-shadow: 0px 1px 2px rgba(60, 64, 67, 0.3), 0px 1px 3px 1px rgba(60, 64, 67, 0.15);\n",
       "      fill: #174EA6;\n",
       "    }\n",
       "\n",
       "    [theme=dark] .colab-df-convert {\n",
       "      background-color: #3B4455;\n",
       "      fill: #D2E3FC;\n",
       "    }\n",
       "\n",
       "    [theme=dark] .colab-df-convert:hover {\n",
       "      background-color: #434B5C;\n",
       "      box-shadow: 0px 1px 3px 1px rgba(0, 0, 0, 0.15);\n",
       "      filter: drop-shadow(0px 1px 2px rgba(0, 0, 0, 0.3));\n",
       "      fill: #FFFFFF;\n",
       "    }\n",
       "  </style>\n",
       "\n",
       "      <script>\n",
       "        const buttonEl =\n",
       "          document.querySelector('#df-0896ecbb-6400-4b25-b777-51e6f64ea507 button.colab-df-convert');\n",
       "        buttonEl.style.display =\n",
       "          google.colab.kernel.accessAllowed ? 'block' : 'none';\n",
       "\n",
       "        async function convertToInteractive(key) {\n",
       "          const element = document.querySelector('#df-0896ecbb-6400-4b25-b777-51e6f64ea507');\n",
       "          const dataTable =\n",
       "            await google.colab.kernel.invokeFunction('convertToInteractive',\n",
       "                                                     [key], {});\n",
       "          if (!dataTable) return;\n",
       "\n",
       "          const docLinkHtml = 'Like what you see? Visit the ' +\n",
       "            '<a target=\"_blank\" href=https://colab.research.google.com/notebooks/data_table.ipynb>data table notebook</a>'\n",
       "            + ' to learn more about interactive tables.';\n",
       "          element.innerHTML = '';\n",
       "          dataTable['output_type'] = 'display_data';\n",
       "          await google.colab.output.renderOutput(dataTable, element);\n",
       "          const docLink = document.createElement('div');\n",
       "          docLink.innerHTML = docLinkHtml;\n",
       "          element.appendChild(docLink);\n",
       "        }\n",
       "      </script>\n",
       "    </div>\n",
       "  </div>\n",
       "  "
      ],
      "text/plain": [
       "   Survived  Pclass                                               Name  \\\n",
       "0         0       3                            Braund, Mr. Owen Harris   \n",
       "1         1       1  Cumings, Mrs. John Bradley (Florence Briggs Th...   \n",
       "2         1       3                             Heikkinen, Miss. Laina   \n",
       "3         1       1       Futrelle, Mrs. Jacques Heath (Lily May Peel)   \n",
       "4         0       3                           Allen, Mr. William Henry   \n",
       "\n",
       "      Sex   Age  SibSp  Parch            Ticket     Fare Cabin Embarked  \n",
       "0    male  22.0      1      0         A/5 21171   7.2500   NaN        S  \n",
       "1  female  38.0      1      0          PC 17599  71.2833   C85        C  \n",
       "2  female  26.0      0      0  STON/O2. 3101282   7.9250   NaN        S  \n",
       "3  female  35.0      1      0            113803  53.1000  C123        S  \n",
       "4    male  35.0      0      0            373450   8.0500   NaN        S  "
      ]
     },
     "execution_count": 15,
     "metadata": {},
     "output_type": "execute_result"
    }
   ],
   "source": [
    "#Loading the data using read_csv and displaying the first 5 rows\n",
    "df = pd.read_csv('/content/sample_data/dataset_NN.csv')\n",
    "df.head()"
   ]
  },
  {
   "cell_type": "code",
   "execution_count": 16,
   "metadata": {
    "id": "NZUJ5J011mUw"
   },
   "outputs": [],
   "source": [
    "#dropping the column Embarked as it is not the best parameter\n",
    "df = df.dropna(subset=['Embarked'])\n",
    "#preprocessing the Age and Sex . so filling the null values with mean for both age and sex\n",
    "df['Age'].fillna(round(df['Age'].dropna().mean()), inplace=True)\n",
    "\n",
    "df['Sex'] = df['Sex'].map({'male':1, 'female':0})"
   ]
  },
  {
   "cell_type": "code",
   "execution_count": 17,
   "metadata": {
    "id": "iPWAKKu-1ory"
   },
   "outputs": [],
   "source": [
    "#using the filter here for better accuracy and converting it to numerical\n",
    "def compute_Age(df):\n",
    "    if (df['Age']<=15) :\n",
    "        return 1\n",
    "    elif (df['Age']<=30) :\n",
    "        return 2\n",
    "    elif (df['Age']<=60) :\n",
    "        return 3\n",
    "    else :\n",
    "        return 4\n",
    "\n",
    "\n",
    "df['AgeCategory'] = df.apply(compute_Age, axis=1)"
   ]
  },
  {
   "cell_type": "code",
   "execution_count": 18,
   "metadata": {
    "id": "_RPmDTWJ1rcm"
   },
   "outputs": [],
   "source": [
    "#best features that I have choosen \n",
    "features = ['Sex', 'AgeCategory', 'Pclass']\n",
    "# X is having the 3 best features and the Y have the target variable\n",
    "X = df[features]\n",
    "Y = df['Survived']\n",
    "#splitting the dataset into 75 percent train data and 25 percent test data\n",
    "X_train, X_test, y_train, y_test = train_test_split(X, Y, random_state=101, test_size=0.25)\n",
    "\n",
    "scaler = preprocessing.StandardScaler().fit(X_train)\n",
    "Xtrain = scaler.transform(X_train)\n",
    "Xtest = scaler.transform(X_test)"
   ]
  },
  {
   "cell_type": "code",
   "execution_count": 19,
   "metadata": {
    "id": "tQxQkAhW1tfF"
   },
   "outputs": [],
   "source": [
    "#checking the error rate and also from this we are calculating the best values of k\n",
    "error_rate = []\n",
    "for i in range(1,20):\n",
    "    knn = KNeighborsClassifier(n_neighbors=i)\n",
    "    knn.fit(X_train,y_train)\n",
    "    pred_i = knn.predict(X_test)\n",
    "    error_rate.append(np.mean(pred_i != y_test))"
   ]
  },
  {
   "cell_type": "code",
   "execution_count": 20,
   "metadata": {
    "colab": {
     "base_uri": "https://localhost:8080/",
     "height": 422
    },
    "id": "5HTSTnvP1vyd",
    "outputId": "2855a133-c3fc-4c30-d6eb-14bcdf1afd17"
   },
   "outputs": [
    {
     "data": {
      "text/plain": [
       "Text(0, 0.5, 'Error Rate')"
      ]
     },
     "execution_count": 20,
     "metadata": {},
     "output_type": "execute_result"
    },
    {
     "data": {
      "image/png": "[encoded data removed]",
      "text/plain": [
       "<Figure size 720x432 with 1 Axes>"
      ]
     },
     "metadata": {
      "needs_background": "light"
     },
     "output_type": "display_data"
    }
   ],
   "source": [
    "#plot for error rate to the K value\n",
    "plt.figure(figsize=(10,6))\n",
    "plt.plot(range(1,20),error_rate, marker='o', markerfacecolor='red', markersize=10)\n",
    "plt.title('Error Rate vs. K Value')\n",
    "plt.xlabel('K')\n",
    "plt.ylabel('Error Rate')"
   ]
  },
  {
   "cell_type": "code",
   "execution_count": 21,
   "metadata": {
    "colab": {
     "base_uri": "https://localhost:8080/"
    },
    "id": "NIkviL1D1yH0",
    "outputId": "0bebaa80-1e4f-498b-921d-4d639fb313bf"
   },
   "outputs": [
    {
     "name": "stdout",
     "output_type": "stream",
     "text": [
      "Accuracy : 77.130%\n",
      "              precision    recall  f1-score   support\n",
      "\n",
      "           0       0.77      0.90      0.83       136\n",
      "           1       0.78      0.57      0.66        87\n",
      "\n",
      "    accuracy                           0.77       223\n",
      "   macro avg       0.77      0.74      0.74       223\n",
      "weighted avg       0.77      0.77      0.76       223\n",
      "\n"
     ]
    }
   ],
   "source": [
    "#appling knn at the neighbor count = 4 and includes:precision, recall, f1-score, and support\n",
    "knn = neighbors.KNeighborsClassifier(n_neighbors=4)\n",
    "knn.fit(X_train, y_train)\n",
    "y_pred = knn.predict(X_test)\n",
    "\n",
    "print('Accuracy : %.3f' % (accuracy_score(y_test, y_pred)*100) +'%')\n",
    "print(classification_report(y_test, y_pred))"
   ]
  },
  {
   "cell_type": "code",
   "execution_count": 22,
   "metadata": {
    "colab": {
     "base_uri": "https://localhost:8080/",
     "height": 356
    },
    "id": "3bHw66yJ1z02",
    "outputId": "91b48c9a-fe49-4f09-980b-81c8bdab32cb"
   },
   "outputs": [
    {
     "data": {
      "image/png": "[encoded data removed]",
      "text/plain": [
       "<Figure size 360x360 with 1 Axes>"
      ]
     },
     "metadata": {
      "needs_background": "light"
     },
     "output_type": "display_data"
    }
   ],
   "source": [
    "y_pred = knn.predict(X_test)\n",
    "\n",
    "conf_matrix = confusion_matrix(y_true=y_test, y_pred=y_pred)\n",
    "#\n",
    "# Print the confusion matrix using Matplotlib\n",
    "#\n",
    "fig, ax = plt.subplots(figsize=(5, 5))\n",
    "ax.matshow(conf_matrix, cmap=plt.cm.Oranges, alpha=0.3)\n",
    "for i in range(conf_matrix.shape[0]):\n",
    "    for j in range(conf_matrix.shape[1]):\n",
    "        ax.text(x=j, y=i,s=conf_matrix[i, j], va='center', ha='center', size='xx-large')\n",
    " \n",
    "plt.xlabel('Predictions', fontsize=14)\n",
    "plt.ylabel('Actuals', fontsize=14)\n",
    "plt.title('Confusion Matrix for k = 4', fontsize=22)\n",
    "plt.show()"
   ]
  },
  {
   "cell_type": "code",
   "execution_count": 23,
   "metadata": {
    "colab": {
     "base_uri": "https://localhost:8080/"
    },
    "id": "p6kxVLnX17OM",
    "outputId": "62feb123-37f8-4117-d091-a5be0f68dcae"
   },
   "outputs": [
    {
     "name": "stdout",
     "output_type": "stream",
     "text": [
      "Accuracy : 80.269%\n",
      "              precision    recall  f1-score   support\n",
      "\n",
      "           0       0.76      1.00      0.86       136\n",
      "           1       1.00      0.49      0.66        87\n",
      "\n",
      "    accuracy                           0.80       223\n",
      "   macro avg       0.88      0.75      0.76       223\n",
      "weighted avg       0.85      0.80      0.78       223\n",
      "\n"
     ]
    }
   ],
   "source": [
    "#appling knn at the neighbor count = 15 and includes:precision, recall, f1-score, and support\n",
    "knn = neighbors.KNeighborsClassifier(n_neighbors=15)\n",
    "knn.fit(X_train, y_train)\n",
    "y_pred = knn.predict(X_test)\n",
    "\n",
    "print('Accuracy : %.3f' % (accuracy_score(y_test, y_pred)*100) +'%')\n",
    "print(classification_report(y_test, y_pred))"
   ]
  },
  {
   "cell_type": "code",
   "execution_count": 24,
   "metadata": {
    "colab": {
     "base_uri": "https://localhost:8080/",
     "height": 356
    },
    "id": "q9Favjo119nk",
    "outputId": "1ac5865d-8d53-4e4b-d45f-2750073298fd"
   },
   "outputs": [
    {
     "data": {
      "image/png": "[encoded data removed]",
      "text/plain": [
       "<Figure size 360x360 with 1 Axes>"
      ]
     },
     "metadata": {
      "needs_background": "light"
     },
     "output_type": "display_data"
    }
   ],
   "source": [
    "y_pred = knn.predict(X_test)\n",
    "\n",
    "conf_matrix = confusion_matrix(y_true=y_test, y_pred=y_pred)\n",
    "#\n",
    "# Print the confusion matrix using Matplotlib\n",
    "#\n",
    "fig, ax = plt.subplots(figsize=(5, 5))\n",
    "ax.matshow(conf_matrix, cmap=plt.cm.Oranges, alpha=0.3)\n",
    "for i in range(conf_matrix.shape[0]):\n",
    "    for j in range(conf_matrix.shape[1]):\n",
    "        ax.text(x=j, y=i,s=conf_matrix[i, j], va='center', ha='center', size='xx-large')\n",
    " \n",
    "plt.xlabel('Predictions', fontsize=14)\n",
    "plt.ylabel('Actuals', fontsize=14)\n",
    "plt.title('Confusion Matrix for k = 15', fontsize=22)\n",
    "plt.show()"
   ]
  },
  {
   "cell_type": "code",
   "execution_count": 25,
   "metadata": {
    "colab": {
     "base_uri": "https://localhost:8080/"
    },
    "id": "Mpv-R2vT1_q0",
    "outputId": "9997ff36-2d90-43ce-b374-759d7d047d0b"
   },
   "outputs": [
    {
     "name": "stdout",
     "output_type": "stream",
     "text": [
      "Accuracy : 72.197%\n",
      "              precision    recall  f1-score   support\n",
      "\n",
      "           0       0.72      0.90      0.80       136\n",
      "           1       0.74      0.45      0.56        87\n",
      "\n",
      "    accuracy                           0.72       223\n",
      "   macro avg       0.73      0.67      0.68       223\n",
      "weighted avg       0.72      0.72      0.70       223\n",
      "\n"
     ]
    }
   ],
   "source": [
    "#appling knn at the neighbor count = 2 and includes:precision, recall, f1-score, and support\n",
    "knn = neighbors.KNeighborsClassifier(n_neighbors=2)\n",
    "knn.fit(X_train, y_train)\n",
    "y_pred = knn.predict(X_test)\n",
    "\n",
    "print('Accuracy : %.3f' % (accuracy_score(y_test, y_pred)*100) +'%')\n",
    "print(classification_report(y_test, y_pred))"
   ]
  },
  {
   "cell_type": "code",
   "execution_count": 26,
   "metadata": {
    "colab": {
     "base_uri": "https://localhost:8080/",
     "height": 356
    },
    "id": "ajuILZOU2B4g",
    "outputId": "c274bb9a-bb4b-40bd-c640-0f8a98503d15"
   },
   "outputs": [
    {
     "data": {
      "image/png": "[encoded data removed]",
      "text/plain": [
       "<Figure size 360x360 with 1 Axes>"
      ]
     },
     "metadata": {
      "needs_background": "light"
     },
     "output_type": "display_data"
    }
   ],
   "source": [
    "y_pred = knn.predict(X_test)\n",
    "\n",
    "conf_matrix = confusion_matrix(y_true=y_test, y_pred=y_pred)\n",
    "#\n",
    "# Print the confusion matrix using Matplotlib\n",
    "#\n",
    "fig, ax = plt.subplots(figsize=(5, 5))\n",
    "ax.matshow(conf_matrix, cmap=plt.cm.Oranges, alpha=0.3)\n",
    "for i in range(conf_matrix.shape[0]):\n",
    "    for j in range(conf_matrix.shape[1]):\n",
    "        ax.text(x=j, y=i,s=conf_matrix[i, j], va='center', ha='center', size='xx-large')\n",
    " \n",
    "plt.xlabel('Predictions', fontsize=14)\n",
    "plt.ylabel('Actuals', fontsize=14)\n",
    "plt.title('Confusion Matrix for k = 2', fontsize=22)\n",
    "plt.show()"
   ]
  },
  {
   "cell_type": "code",
   "execution_count": 27,
   "metadata": {
    "colab": {
     "base_uri": "https://localhost:8080/",
     "height": 568
    },
    "id": "hTIc51Nn2EPi",
    "outputId": "a8d40616-556b-4f36-8a66-316286032e8c"
   },
   "outputs": [
    {
     "data": {
      "text/plain": [
       "<seaborn.axisgrid.PairGrid at 0x7f6509425350>"
      ]
     },
     "execution_count": 27,
     "metadata": {},
     "output_type": "execute_result"
    },
    {
     "data": {
      "image/png": "[encoded data removed]",
      "text/plain": [
       "<Figure size 591.875x540 with 12 Axes>"
      ]
     },
     "metadata": {
      "needs_background": "light"
     },
     "output_type": "display_data"
    }
   ],
   "source": [
    "cols = ['Sex', 'AgeCategory', 'Pclass', 'Survived']\n",
    "sns.pairplot(data = df[cols], hue = 'Survived', palette = 'RdBu')"
   ]
  },
  {
   "cell_type": "markdown",
   "metadata": {
    "id": "Js-hpCPz2N_N"
   },
   "source": [
    "##KNN REPORT\n",
    "\n",
    "1.Team Contribution:\n",
    "Subhash, Varun Adit, and Supreetha communicated and contributed equally throughout the project.\n",
    "Varun Adit gone through the preprocessing and cleansing of data and the techniques of visualization of data. He also contributed for better understanding of dataset.\n",
    "Subhash was responsible for exploring python functions and pandas’ libraries. He put forth her knowledge with us which helped us complete the python part of this assignment.\n",
    "Supreetha has gone through site browsing which helped in completing the project and helped in accuracy and Report making.\n",
    "\n",
    "2.  Explaining the Nearest Neighbors method:\n",
    "The k-nearest neighbors (KNN) algorithm is a data categorization technique for calculating the likelihood that a data point will join one group, or another based on the group to which the data points closest to it belong. A supervised machine learning approach known as the k-nearest neighbor algorithm is used to resolve classification and regression issues. But classification issues are where it's most frequently applied.\n",
    "K-nearest neighbors’ categorization is straightforward to comprehend and use. When the data points are well-defined or non-linear, it works well.\n",
    "To decide the class of an unobserved observation, KNN essentially uses a voting method. This indicates that the class that receives the most votes will be the class for the relevant data point.\n",
    "If K is equal to 1, we will only consider a data point's closest neighbor when determining its class. The ten closest neighbors will be used if K is equal to ten, and so on.\n",
    "The Euclidean distance, Manhattan distance, hamming distance, and Minkowski distance are the four methods for calculating the distance between a data point and its closest neighbor. The Euclidean distance is the distance function or metric that is most frequently applied among the three.\n",
    "knn = neighbors.KNeighborsClassifier(n_neighbors=4)\n",
    "knn.fit(X_train, y_train)\n",
    "y_pred = knn.predict(X_test)\n",
    "\n",
    "print('Accuracy : %.3f' % (accuracy_score(y_test, y_pred)*100) +'%')\n",
    "print(classification_report(y_test, y_pred))\n",
    "\n",
    "3. Explain what your criteria was for selecting the three attributes\n",
    "I have selected the 3 attributes Pclass, Sex, Age because:\n",
    "\n",
    "1.\tPclass\n",
    " \n",
    "sns.barplot(x='Pclass', y='Survived', data=train_df)\n",
    "Here, it is evident that Pclass affects a person's likelihood of survival, especially if that individual is in class 1.\n",
    "\n",
    "2.\tAge and Sex:\n",
    "\n",
    "survived = 'survived'\n",
    "not_survived = 'not survived'\n",
    "fig, axes = plt.subplots(nrows=1, ncols=2,figsize=(10, 4))\n",
    "women = train_df[train_df['Sex']=='female']\n",
    "men = train_df[train_df['Sex']=='male']\n",
    "ax = sns.distplot(women[women['Survived']==1].Age.dropna(), bins=18, label = survived, ax = axes[0], kde =False)\n",
    "ax = sns.distplot(women[women['Survived']==0].Age.dropna(), bins=40, label = not_survived, ax = axes[0], kde =False)\n",
    "ax.legend()\n",
    "ax.set_title('Female')\n",
    "ax = sns.distplot(men[men['Survived']==1].Age.dropna(), bins=18, label = survived, ax = axes[1], kde = False)\n",
    "ax = sns.distplot(men[men['Survived']==0].Age.dropna(), bins=40, label = not_survived, ax = axes[1], kde = False)\n",
    "ax.legend()\n",
    "_ = ax.set_title('Male')\n",
    "\n",
    " \n",
    "It is clear that males, and to a lesser extent women, have a higher chance of surviving when they are between the ages of 18 and 30. Between the ages of 14 and 40, women have a greater probability of surviving.\n",
    "\n",
    "Between the ages of 5 and 18, men have an extremely low chance of surviving, while women do not. Furthermore, newborns have a slightly greater chance of surviving than adults.\n",
    "\n",
    "I'll develop age groups later because it seems that there are some ages that have higher survival rates and because I want every feature to be generally on the same scale.\n",
    "\n",
    "What other 3 attribute can you choose?\n",
    " I would have selected the 3 attributes Pclass, Sex, Embarked because:\n",
    "FacetGrid = sns.FacetGrid(train_df, row='Embarked', size=4.5, aspect=1.6)\n",
    "FacetGrid.map(sns.pointplot, 'Pclass', 'Survived', 'Sex', palette=None, order=None, hue_order=None )\n",
    "FacetGrid.add_legend()\n",
    " \n",
    "Depending on the gender, embarked seems to be connected with survival.\n",
    "Women who are on ports Q and S are more likely to survive. If they are at port C, the opposite is true. If men are on port C, their chances of survival are good; nevertheless, if they are on port Q or S, their chances are poor.\n",
    "\n",
    "\n",
    "\n",
    "\n",
    "\n",
    "\n",
    "\n",
    "4. Visualizations of the classifier in a 2D projection, and write your observations.\n",
    " \n",
    " \n",
    "Here, it is evident that Pclass affects a person's likelihood of survival, especially if that individual is in class 1. It is clear that males, and to a lesser extent women, have a higher chance of surviving when they are between the ages of 18 and 30. Between the ages of 14 and 40, women have a greater probability of surviving. Between the ages of 5 and 18, men have an extremely low chance of surviving, while women do not. Furthermore, newborns have a slightly greater chance of surviving than adults. I’ll develop age groups later because it seems that there are some ages that have higher survival rates and because I want every feature to be generally on the same scale.\n",
    "\n",
    "\n",
    "\n",
    "\n",
    "5.  Interpret and compare the results explain in detail\n",
    "Here we can see that as the k value increases the error rate has decreased. The error rate was high when k value is in between 1 and 2. The error rate line is stable from 2 to 12.5 and the Accuracy is max at K= 15, 17,19. \n",
    "Accuracy at K= 4 : 80.269\n",
    "Accuracy at K= 15 : 81.166\n",
    "Accuracy at K= 2 : 80.269\n",
    "For all the values of K we are getting the accuracy more than 80 percent and for the k values at 15, 17, 19 getting the highest accuracy of 81.166\n",
    "\n",
    "\n",
    "References:\n",
    "https://learn.g2.com/k-nearest-neighbor\n",
    "https://towardsdatascience.com/predicting-the-survival-of-titanic-passengers-30870ccc7e8\n",
    "https://github.com/ElsitaK/Titanic_kNN\n",
    "https://thedatamonk.com/kaggle-titanic-solution/\n",
    "https://www.kaggle.com/competitions/titanic-dataset/data?select=titanic_train.csv\n"
   ]
  }
 ],
 "metadata": {
  "colab": {
   "provenance": []
  },
  "kernelspec": {
   "display_name": "Python 3 (ipykernel)",
   "language": "python",
   "name": "python3"
  },
  "language_info": {
   "codemirror_mode": {
    "name": "ipython",
    "version": 3
   },
   "file_extension": ".py",
   "mimetype": "text/x-python",
   "name": "python",
   "nbconvert_exporter": "python",
   "pygments_lexer": "ipython3",
   "version": "3.9.12"
  }
 },
 "nbformat": 4,
 "nbformat_minor": 1
}
